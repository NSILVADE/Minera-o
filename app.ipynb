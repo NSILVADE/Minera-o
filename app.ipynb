{
 "cells": [
  {
   "cell_type": "code",
   "execution_count": 4,
   "id": "203261f7",
   "metadata": {},
   "outputs": [],
   "source": [
    "import pandas as pd # for dataframes\n",
    "import numpy as np # for NaN\n",
    "import matplotlib.pyplot as plt # for visualization\n",
    "import seaborn as sns\n",
    "import streamlit as st"
   ]
  },
  {
   "cell_type": "code",
   "execution_count": 5,
   "id": "3c9dc80e",
   "metadata": {},
   "outputs": [
    {
     "data": {
      "text/html": [
       "<div>\n",
       "<style scoped>\n",
       "    .dataframe tbody tr th:only-of-type {\n",
       "        vertical-align: middle;\n",
       "    }\n",
       "\n",
       "    .dataframe tbody tr th {\n",
       "        vertical-align: top;\n",
       "    }\n",
       "\n",
       "    .dataframe thead th {\n",
       "        text-align: right;\n",
       "    }\n",
       "</style>\n",
       "<table border=\"1\" class=\"dataframe\">\n",
       "  <thead>\n",
       "    <tr style=\"text-align: right;\">\n",
       "      <th></th>\n",
       "      <th>sent_rating</th>\n",
       "      <th>processed_text_NoStopwords</th>\n",
       "      <th>data</th>\n",
       "    </tr>\n",
       "  </thead>\n",
       "  <tbody>\n",
       "    <tr>\n",
       "      <th>0</th>\n",
       "      <td>negativo</td>\n",
       "      <td>som realmente entanto a conectividade e respos...</td>\n",
       "      <td>2021-06-09 00:00:00</td>\n",
       "    </tr>\n",
       "    <tr>\n",
       "      <th>1</th>\n",
       "      <td>negativo</td>\n",
       "      <td>O produto responde corretamente a comandos pre...</td>\n",
       "      <td>2020-11-26 00:00:00</td>\n",
       "    </tr>\n",
       "    <tr>\n",
       "      <th>2</th>\n",
       "      <td>negativo</td>\n",
       "      <td>compra caixa som pensa normalmente leva-la o a...</td>\n",
       "      <td>2021-01-05 00:00:00</td>\n",
       "    </tr>\n",
       "    <tr>\n",
       "      <th>3</th>\n",
       "      <td>negativo</td>\n",
       "      <td>A funcionalidade Comprei lâmpadas smart plugs ...</td>\n",
       "      <td>2021-06-16 00:00:00</td>\n",
       "    </tr>\n",
       "    <tr>\n",
       "      <th>4</th>\n",
       "      <td>positivo</td>\n",
       "      <td>Excelente assistente som e limpo a Alexa dific...</td>\n",
       "      <td>2020-12-10 00:00:00</td>\n",
       "    </tr>\n",
       "  </tbody>\n",
       "</table>\n",
       "</div>"
      ],
      "text/plain": [
       "  sent_rating                         processed_text_NoStopwords  \\\n",
       "0    negativo  som realmente entanto a conectividade e respos...   \n",
       "1    negativo  O produto responde corretamente a comandos pre...   \n",
       "2    negativo  compra caixa som pensa normalmente leva-la o a...   \n",
       "3    negativo  A funcionalidade Comprei lâmpadas smart plugs ...   \n",
       "4    positivo  Excelente assistente som e limpo a Alexa dific...   \n",
       "\n",
       "                  data  \n",
       "0  2021-06-09 00:00:00  \n",
       "1  2020-11-26 00:00:00  \n",
       "2  2021-01-05 00:00:00  \n",
       "3  2021-06-16 00:00:00  \n",
       "4  2020-12-10 00:00:00  "
      ]
     },
     "execution_count": 5,
     "metadata": {},
     "output_type": "execute_result"
    }
   ],
   "source": [
    "dataset = pd.read_csv(\"https://raw.githubusercontent.com/NSILVADE/Minera-o/main/NoStem_TotalStopwordRemoval_dataset.csv\")\n",
    "dataset.head()"
   ]
  },
  {
   "cell_type": "code",
   "execution_count": 6,
   "id": "e73fc35a",
   "metadata": {},
   "outputs": [
    {
     "data": {
      "text/plain": [
       "DeltaGenerator(_root_container=0, _provided_cursor=None, _parent=None, _block_type=None, _form_data=None)"
      ]
     },
     "execution_count": 6,
     "metadata": {},
     "output_type": "execute_result"
    }
   ],
   "source": [
    "st.bar_chart(dataset)\n"
   ]
  },
  {
   "cell_type": "code",
   "execution_count": null,
   "id": "e060a0e8",
   "metadata": {},
   "outputs": [],
   "source": []
  }
 ],
 "metadata": {
  "kernelspec": {
   "display_name": "Python 3 (ipykernel)",
   "language": "python",
   "name": "python3"
  },
  "language_info": {
   "codemirror_mode": {
    "name": "ipython",
    "version": 3
   },
   "file_extension": ".py",
   "mimetype": "text/x-python",
   "name": "python",
   "nbconvert_exporter": "python",
   "pygments_lexer": "ipython3",
   "version": "3.9.7"
  }
 },
 "nbformat": 4,
 "nbformat_minor": 5
}
